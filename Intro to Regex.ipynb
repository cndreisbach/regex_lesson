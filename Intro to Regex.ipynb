{
 "cells": [
  {
   "cell_type": "markdown",
   "metadata": {},
   "source": [
    "Regular expressions (regexes) are, when you understand them, one of the most fun things you can work with in programming. They are a mini-language for matching text.\n",
    "\n",
    "The first thing to know is that non-special characters match themselves in text."
   ]
  },
  {
   "cell_type": "code",
   "execution_count": 2,
   "metadata": {
    "collapsed": false
   },
   "outputs": [
    {
     "name": "stdout",
     "output_type": "stream",
     "text": [
      "Help on function search in module re:\n",
      "\n",
      "search(pattern, string, flags=0)\n",
      "    Scan through string looking for a match to the pattern, returning\n",
      "    a match object, or None if no match was found.\n",
      "\n"
     ]
    }
   ],
   "source": [
    "import re\n",
    "help(re.search)"
   ]
  },
  {
   "cell_type": "code",
   "execution_count": 3,
   "metadata": {
    "collapsed": false
   },
   "outputs": [
    {
     "data": {
      "text/plain": [
       "<_sre.SRE_Match object; span=(1, 2), match='e'>"
      ]
     },
     "execution_count": 3,
     "metadata": {},
     "output_type": "execute_result"
    }
   ],
   "source": [
    "re.search(r\"e\", \"hello\")"
   ]
  },
  {
   "cell_type": "code",
   "execution_count": 4,
   "metadata": {
    "collapsed": false
   },
   "outputs": [
    {
     "data": {
      "text/plain": [
       "<_sre.SRE_Match object; span=(2, 3), match='l'>"
      ]
     },
     "execution_count": 4,
     "metadata": {},
     "output_type": "execute_result"
    }
   ],
   "source": [
    "re.search(r\"l\", \"hello\")"
   ]
  },
  {
   "cell_type": "markdown",
   "metadata": {},
   "source": [
    "You can match more than one letter, of course."
   ]
  },
  {
   "cell_type": "code",
   "execution_count": 73,
   "metadata": {
    "collapsed": false
   },
   "outputs": [],
   "source": [
    "sentence = (\"A symmetry of a pattern is -- loosely speaking -- a way of transforming \"\n",
    "            \"the pattern so that the pattern looks exactly the same after the \"\n",
    "            \"transformation.\")"
   ]
  },
  {
   "cell_type": "code",
   "execution_count": 6,
   "metadata": {
    "collapsed": false
   },
   "outputs": [
    {
     "data": {
      "text/plain": [
       "<_sre.SRE_Match object; span=(16, 23), match='pattern'>"
      ]
     },
     "execution_count": 6,
     "metadata": {},
     "output_type": "execute_result"
    }
   ],
   "source": [
    "re.search(r\"pattern\", sentence)"
   ]
  },
  {
   "cell_type": "markdown",
   "metadata": {},
   "source": [
    "`re.search` gives us a match object that has many methods, but only finds the first match.\n",
    "\n",
    "`re.findall` gives us a list of all matches."
   ]
  },
  {
   "cell_type": "code",
   "execution_count": 7,
   "metadata": {
    "collapsed": false
   },
   "outputs": [
    {
     "data": {
      "text/plain": [
       "['pattern', 'pattern', 'pattern']"
      ]
     },
     "execution_count": 7,
     "metadata": {},
     "output_type": "execute_result"
    }
   ],
   "source": [
    "re.findall(r\"pattern\", sentence)"
   ]
  },
  {
   "cell_type": "code",
   "execution_count": 8,
   "metadata": {
    "collapsed": false
   },
   "outputs": [
    {
     "data": {
      "text/plain": [
       "['at', 'at', 'at', 'at', 'at']"
      ]
     },
     "execution_count": 8,
     "metadata": {},
     "output_type": "execute_result"
    }
   ],
   "source": [
    "re.findall(r\"at\", sentence)"
   ]
  },
  {
   "cell_type": "markdown",
   "metadata": {},
   "source": [
    "## Matching anything\n",
    "\n",
    "The `.` (period) character matches anything (except a newline). We can use this to find strings that match wildcards, like \"a double-o followed by any character.\""
   ]
  },
  {
   "cell_type": "code",
   "execution_count": 9,
   "metadata": {
    "collapsed": false
   },
   "outputs": [
    {
     "data": {
      "text/plain": [
       "<_sre.SRE_Match object; span=(29, 32), match='oos'>"
      ]
     },
     "execution_count": 9,
     "metadata": {},
     "output_type": "execute_result"
    }
   ],
   "source": [
    "re.search(r\"oo.\", sentence)"
   ]
  },
  {
   "cell_type": "markdown",
   "metadata": {},
   "source": [
    "See how the match is \"oos\"."
   ]
  },
  {
   "cell_type": "code",
   "execution_count": 10,
   "metadata": {
    "collapsed": false
   },
   "outputs": [
    {
     "data": {
      "text/plain": [
       "['patt', 'patt', 'hat ', 'patt', 'mati']"
      ]
     },
     "execution_count": 10,
     "metadata": {},
     "output_type": "execute_result"
    }
   ],
   "source": [
    "re.findall(r\".at.\", sentence)"
   ]
  },
  {
   "cell_type": "code",
   "execution_count": 11,
   "metadata": {
    "collapsed": false
   },
   "outputs": [
    {
     "data": {
      "text/plain": [
       "<_sre.SRE_Match object; span=(147, 148), match='.'>"
      ]
     },
     "execution_count": 11,
     "metadata": {},
     "output_type": "execute_result"
    }
   ],
   "source": [
    "re.search(r\"\\.\", sentence)"
   ]
  },
  {
   "cell_type": "code",
   "execution_count": 53,
   "metadata": {
    "collapsed": false
   },
   "outputs": [
    {
     "data": {
      "text/plain": [
       "['a']"
      ]
     },
     "execution_count": 53,
     "metadata": {},
     "output_type": "execute_result"
    }
   ],
   "source": [
    "a = [ \"a\", \"b\", \"c\" ]\n",
    "   # 0    1    2   3 \n",
    "    \n",
    "a[0:1]"
   ]
  },
  {
   "cell_type": "code",
   "execution_count": null,
   "metadata": {
    "collapsed": true
   },
   "outputs": [],
   "source": [
    "a = \" h e l l o \"\n",
    "#    0 1 2 3 4 5  "
   ]
  },
  {
   "cell_type": "code",
   "execution_count": 12,
   "metadata": {
    "collapsed": false
   },
   "outputs": [
    {
     "name": "stdout",
     "output_type": "stream",
     "text": [
      "['h', 'h']\n",
      "['H', 'h', 'H', 'h']\n"
     ]
    }
   ],
   "source": [
    "# Case-insensitive matching\n",
    "print(re.findall(r\"h\", \"Hello there! How many I help you?\"))\n",
    "print(re.findall(r\"h\", \"Hello there! How many I help you?\", re.IGNORECASE))"
   ]
  },
  {
   "cell_type": "markdown",
   "metadata": {},
   "source": [
    "## What can I do with a match object?"
   ]
  },
  {
   "cell_type": "code",
   "execution_count": 13,
   "metadata": {
    "collapsed": false
   },
   "outputs": [
    {
     "name": "stdout",
     "output_type": "stream",
     "text": [
      "Help on SRE_Match object:\n",
      "\n",
      "class SRE_Match(builtins.object)\n",
      " |  The result of re.match() and re.search().\n",
      " |  Match objects always have a boolean value of True.\n",
      " |  \n",
      " |  Methods defined here:\n",
      " |  \n",
      " |  __copy__(self, /)\n",
      " |  \n",
      " |  __deepcopy__(self, /, memo)\n",
      " |  \n",
      " |  __repr__(self, /)\n",
      " |      Return repr(self).\n",
      " |  \n",
      " |  end(self, group=0, /)\n",
      " |      Return index of the end of the substring matched by group.\n",
      " |  \n",
      " |  expand(self, /, template)\n",
      " |      Return the string obtained by doing backslash substitution on the string template, as done by the sub() method.\n",
      " |  \n",
      " |  group(...)\n",
      " |      group([group1, ...]) -> str or tuple.\n",
      " |      Return subgroup(s) of the match by indices or names.\n",
      " |      For 0 returns the entire match.\n",
      " |  \n",
      " |  groupdict(self, /, default=None)\n",
      " |      Return a dictionary containing all the named subgroups of the match, keyed by the subgroup name.\n",
      " |      \n",
      " |      default\n",
      " |        Is used for groups that did not participate in the match.\n",
      " |  \n",
      " |  groups(self, /, default=None)\n",
      " |      Return a tuple containing all the subgroups of the match, from 1.\n",
      " |      \n",
      " |      default\n",
      " |        Is used for groups that did not participate in the match.\n",
      " |  \n",
      " |  span(self, group=0, /)\n",
      " |      For MatchObject m, return the 2-tuple (m.start(group), m.end(group)).\n",
      " |  \n",
      " |  start(self, group=0, /)\n",
      " |      Return index of the start of the substring matched by group.\n",
      " |  \n",
      " |  ----------------------------------------------------------------------\n",
      " |  Data descriptors defined here:\n",
      " |  \n",
      " |  endpos\n",
      " |  \n",
      " |  lastgroup\n",
      " |  \n",
      " |  lastindex\n",
      " |  \n",
      " |  pos\n",
      " |  \n",
      " |  re\n",
      " |  \n",
      " |  regs\n",
      " |  \n",
      " |  string\n",
      "\n"
     ]
    }
   ],
   "source": [
    "match = re.search(\"pattern\", sentence)\n",
    "help(match)"
   ]
  },
  {
   "cell_type": "markdown",
   "metadata": {},
   "source": [
    "## Start and end matches\n",
    "\n",
    "You often want to match something if and only if it is at the beginning or end of a string.\n",
    "\n",
    "`^` matches the beginning of a string.\n",
    "\n",
    "`$` matches the end of a string."
   ]
  },
  {
   "cell_type": "code",
   "execution_count": 14,
   "metadata": {
    "collapsed": false
   },
   "outputs": [
    {
     "data": {
      "text/plain": [
       "<_sre.SRE_Match object; span=(0, 2), match='A '>"
      ]
     },
     "execution_count": 14,
     "metadata": {},
     "output_type": "execute_result"
    }
   ],
   "source": [
    "re.search(r\"^A \", sentence)"
   ]
  },
  {
   "cell_type": "code",
   "execution_count": 15,
   "metadata": {
    "collapsed": false
   },
   "outputs": [
    {
     "name": "stdout",
     "output_type": "stream",
     "text": [
      "None\n"
     ]
    }
   ],
   "source": [
    "print(re.search(r\"^pattern\", sentence))"
   ]
  },
  {
   "cell_type": "markdown",
   "metadata": {},
   "source": [
    "If I want to match the end of this string, I have to match a period."
   ]
  },
  {
   "cell_type": "code",
   "execution_count": 16,
   "metadata": {
    "collapsed": false
   },
   "outputs": [
    {
     "data": {
      "text/plain": [
       "<_sre.SRE_Match object; span=(146, 148), match='n.'>"
      ]
     },
     "execution_count": 16,
     "metadata": {},
     "output_type": "execute_result"
    }
   ],
   "source": [
    "re.search(r\"n.$\", sentence)"
   ]
  },
  {
   "cell_type": "code",
   "execution_count": 17,
   "metadata": {
    "collapsed": false
   },
   "outputs": [
    {
     "data": {
      "text/plain": [
       "<_sre.SRE_Match object; span=(12, 14), match='ng'>"
      ]
     },
     "execution_count": 17,
     "metadata": {},
     "output_type": "execute_result"
    }
   ],
   "source": [
    "re.search(r\"n.$\", \"I like singing\")"
   ]
  },
  {
   "cell_type": "code",
   "execution_count": 54,
   "metadata": {
    "collapsed": false
   },
   "outputs": [
    {
     "data": {
      "text/plain": [
       "<_sre.SRE_Match object; span=(12, 14), match=\"n'\">"
      ]
     },
     "execution_count": 54,
     "metadata": {},
     "output_type": "execute_result"
    }
   ],
   "source": [
    "re.search(r\"n.$\", \"I like singin'\")"
   ]
  },
  {
   "cell_type": "code",
   "execution_count": 56,
   "metadata": {
    "collapsed": false
   },
   "outputs": [
    {
     "name": "stdout",
     "output_type": "stream",
     "text": [
      "None\n"
     ]
    }
   ],
   "source": [
    "print(re.search(r\"^like\", \"I like singin'\"))"
   ]
  },
  {
   "cell_type": "markdown",
   "metadata": {},
   "source": [
    "What happened here? `.` matches anything, so I have to _escape_ it to match just a period."
   ]
  },
  {
   "cell_type": "code",
   "execution_count": 18,
   "metadata": {
    "collapsed": false
   },
   "outputs": [
    {
     "data": {
      "text/plain": [
       "<_sre.SRE_Match object; span=(146, 148), match='n.'>"
      ]
     },
     "execution_count": 18,
     "metadata": {},
     "output_type": "execute_result"
    }
   ],
   "source": [
    "re.search(r\"n\\.$\", sentence)"
   ]
  },
  {
   "cell_type": "code",
   "execution_count": 57,
   "metadata": {
    "collapsed": false
   },
   "outputs": [
    {
     "name": "stdout",
     "output_type": "stream",
     "text": [
      "None\n"
     ]
    }
   ],
   "source": [
    "print(re.search(r\"n\\.$\", \"I like singing\"))"
   ]
  },
  {
   "cell_type": "markdown",
   "metadata": {},
   "source": [
    "## Matching multiples\n",
    "\n",
    "Often, you want to match a multiple amount of something. Whether it's 0 or more, 1 or more, 0 or 1, or something else, we've got you covered.\n",
    "\n",
    "* `*` matches 0 or more.\n",
    "* `+` matches 1 or more.\n",
    "* `?` matches 0 or 1.\n",
    "* `{n}` matches `n` repetitions.\n",
    "* `{m,n}` matches `m` to `n` repetitions. You can leave out `m` or `n` to match 0 to `n`, or `m` to infinity."
   ]
  },
  {
   "cell_type": "code",
   "execution_count": 20,
   "metadata": {
    "collapsed": false
   },
   "outputs": [
    {
     "data": {
      "text/plain": [
       "['o', 'oo', 'o', 'o', 'o', 'oo', 'o', 'o']"
      ]
     },
     "execution_count": 20,
     "metadata": {},
     "output_type": "execute_result"
    }
   ],
   "source": [
    "re.findall(r\"o+\", sentence)"
   ]
  },
  {
   "cell_type": "code",
   "execution_count": 58,
   "metadata": {
    "collapsed": false
   },
   "outputs": [
    {
     "data": {
      "text/plain": [
       "['n ', 'ng ', 'n ', 'n ']"
      ]
     },
     "execution_count": 58,
     "metadata": {},
     "output_type": "execute_result"
    }
   ],
   "source": [
    "re.findall(r\"ng? \", sentence)"
   ]
  },
  {
   "cell_type": "code",
   "execution_count": 61,
   "metadata": {
    "collapsed": false
   },
   "outputs": [],
   "source": [
    "no_a = \"b\"\n",
    "one_a = \"ab\"\n",
    "lots_of_a = \"aaaaaaaaaaaab\"\n",
    "mixed_a = \"clintonaaaaaaaaabpython\"\n",
    "mixed_b = \"clinton b python\""
   ]
  },
  {
   "cell_type": "code",
   "execution_count": 62,
   "metadata": {
    "collapsed": false
   },
   "outputs": [
    {
     "name": "stdout",
     "output_type": "stream",
     "text": [
      "<_sre.SRE_Match object; span=(0, 1), match='b'>\n",
      "<_sre.SRE_Match object; span=(0, 2), match='ab'>\n",
      "<_sre.SRE_Match object; span=(0, 13), match='aaaaaaaaaaaab'>\n",
      "<_sre.SRE_Match object; span=(7, 17), match='aaaaaaaaab'>\n",
      "<_sre.SRE_Match object; span=(8, 9), match='b'>\n"
     ]
    }
   ],
   "source": [
    "print(re.search(r\"a*b\", no_a))\n",
    "print(re.search(r\"a*b\", one_a))\n",
    "print(re.search(r\"a*b\", lots_of_a))\n",
    "print(re.search(r\"a*b\", mixed_a))\n",
    "print(re.search(r\"a*b\", mixed_b))"
   ]
  },
  {
   "cell_type": "code",
   "execution_count": 24,
   "metadata": {
    "collapsed": false
   },
   "outputs": [
    {
     "name": "stdout",
     "output_type": "stream",
     "text": [
      "None\n",
      "<_sre.SRE_Match object; span=(0, 2), match='ab'>\n",
      "<_sre.SRE_Match object; span=(0, 13), match='aaaaaaaaaaaab'>\n"
     ]
    }
   ],
   "source": [
    "print(re.search(r\"a+b\", no_a))\n",
    "print(re.search(r\"a+b\", one_a))\n",
    "print(re.search(r\"a+b\", lots_of_a))"
   ]
  },
  {
   "cell_type": "code",
   "execution_count": 25,
   "metadata": {
    "collapsed": false
   },
   "outputs": [
    {
     "name": "stdout",
     "output_type": "stream",
     "text": [
      "<_sre.SRE_Match object; span=(0, 1), match='b'>\n",
      "<_sre.SRE_Match object; span=(0, 2), match='ab'>\n",
      "<_sre.SRE_Match object; span=(11, 13), match='ab'>\n"
     ]
    }
   ],
   "source": [
    "print(re.search(\"a?b\", no_a))\n",
    "print(re.search(\"a?b\", one_a))\n",
    "print(re.search(\"a?b\", lots_of_a))"
   ]
  },
  {
   "cell_type": "code",
   "execution_count": 63,
   "metadata": {
    "collapsed": true
   },
   "outputs": [],
   "source": [
    "def find_zero_or_one_as_and_a_b(string):\n",
    "    for idx, letter in enumerate(string):\n",
    "        if letter == \"b\":\n",
    "            if idx == 0:\n",
    "                return letter\n",
    "            else:\n",
    "                prev_letter = string[idx - 1]\n",
    "                if prev_letter == \"a\":\n",
    "                    return prev_letter + letter\n",
    "                else:\n",
    "                    return letter"
   ]
  },
  {
   "cell_type": "code",
   "execution_count": 64,
   "metadata": {
    "collapsed": false
   },
   "outputs": [
    {
     "name": "stdout",
     "output_type": "stream",
     "text": [
      "b\n",
      "ab\n",
      "ab\n"
     ]
    }
   ],
   "source": [
    "print(find_zero_or_one_as_and_a_b(no_a))\n",
    "print(find_zero_or_one_as_and_a_b(one_a))\n",
    "print(find_zero_or_one_as_and_a_b(lots_of_a))"
   ]
  },
  {
   "cell_type": "code",
   "execution_count": 26,
   "metadata": {
    "collapsed": false
   },
   "outputs": [
    {
     "name": "stdout",
     "output_type": "stream",
     "text": [
      "None\n",
      "None\n",
      "<_sre.SRE_Match object; span=(10, 13), match='aab'>\n"
     ]
    }
   ],
   "source": [
    "print(re.search(\"a{2}b\", no_a))\n",
    "print(re.search(\"a{2}b\", one_a))\n",
    "print(re.search(\"a{2}b\", lots_of_a))"
   ]
  },
  {
   "cell_type": "code",
   "execution_count": 27,
   "metadata": {
    "collapsed": false
   },
   "outputs": [
    {
     "name": "stdout",
     "output_type": "stream",
     "text": [
      "None\n",
      "<_sre.SRE_Match object; span=(0, 2), match='ab'>\n",
      "<_sre.SRE_Match object; span=(10, 13), match='aab'>\n"
     ]
    }
   ],
   "source": [
    "print(re.search(\"a{1,2}b\", no_a))\n",
    "print(re.search(\"a{1,2}b\", one_a))\n",
    "print(re.search(\"a{1,2}b\", lots_of_a))"
   ]
  },
  {
   "cell_type": "code",
   "execution_count": 28,
   "metadata": {
    "collapsed": false
   },
   "outputs": [
    {
     "name": "stdout",
     "output_type": "stream",
     "text": [
      "None\n",
      "<_sre.SRE_Match object; span=(0, 2), match='ab'>\n",
      "<_sre.SRE_Match object; span=(0, 13), match='aaaaaaaaaaaab'>\n"
     ]
    }
   ],
   "source": [
    "print(re.search(\"a{1,}b\", no_a))\n",
    "print(re.search(\"a{1,}b\", one_a))\n",
    "print(re.search(\"a{1,}b\", lots_of_a))"
   ]
  },
  {
   "cell_type": "code",
   "execution_count": 29,
   "metadata": {
    "collapsed": false
   },
   "outputs": [
    {
     "name": "stdout",
     "output_type": "stream",
     "text": [
      "<_sre.SRE_Match object; span=(0, 1), match='b'>\n",
      "<_sre.SRE_Match object; span=(0, 2), match='ab'>\n",
      "<_sre.SRE_Match object; span=(10, 13), match='aab'>\n"
     ]
    }
   ],
   "source": [
    "print(re.search(\"a{,2}b\", no_a))\n",
    "print(re.search(\"a{,2}b\", one_a))\n",
    "print(re.search(\"a{,2}b\", lots_of_a))"
   ]
  },
  {
   "cell_type": "code",
   "execution_count": 30,
   "metadata": {
    "collapsed": false
   },
   "outputs": [
    {
     "data": {
      "text/plain": [
       "['ab', 'ab', 'b']"
      ]
     },
     "execution_count": 30,
     "metadata": {},
     "output_type": "execute_result"
    }
   ],
   "source": [
    "re.findall(r\"a?b\", \"ababb\")"
   ]
  },
  {
   "cell_type": "code",
   "execution_count": 69,
   "metadata": {
    "collapsed": false
   },
   "outputs": [
    {
     "data": {
      "text/plain": [
       "<_sre.SRE_Match object; span=(0, 10), match='abaaaabaab'>"
      ]
     },
     "execution_count": 69,
     "metadata": {},
     "output_type": "execute_result"
    }
   ],
   "source": [
    "# Find 2 instances of ab\n",
    "re.search(r\"(a+b){3}\", \"abaaaabaab\")"
   ]
  },
  {
   "cell_type": "code",
   "execution_count": 70,
   "metadata": {
    "collapsed": false
   },
   "outputs": [
    {
     "data": {
      "text/plain": [
       "['ab', 'aaaab', 'aab']"
      ]
     },
     "execution_count": 70,
     "metadata": {},
     "output_type": "execute_result"
    }
   ],
   "source": [
    "re.findall(r\"a+b\", \"abaaaabaab\")"
   ]
  },
  {
   "cell_type": "markdown",
   "metadata": {},
   "source": [
    "## Matching sets of things\n",
    "\n",
    "All the above is good, but not that useful by itself. Being able to match a group of characters is super-useful.\n",
    "\n",
    "We use square brackets to do this.\n",
    "\n",
    "* `[abz]` will match an a, b, or z.\n",
    "* `[A-Z]` matches a range of letters from A to Z.\n",
    "* `[^A-Z]` matches anything that _isn't_ A to Z."
   ]
  },
  {
   "cell_type": "code",
   "execution_count": 32,
   "metadata": {
    "collapsed": false
   },
   "outputs": [
    {
     "data": {
      "text/plain": [
       "[' way ', ' the ', ' that ', ' looks ', ' the ', ' after ']"
      ]
     },
     "execution_count": 32,
     "metadata": {},
     "output_type": "execute_result"
    }
   ],
   "source": [
    "# Get words three to five letters long\n",
    "re.findall(r\" [A-Za-z]{3,5} \", sentence)"
   ]
  },
  {
   "cell_type": "code",
   "execution_count": 33,
   "metadata": {
    "collapsed": false
   },
   "outputs": [
    {
     "data": {
      "text/plain": [
       "<_sre.SRE_Match object; span=(6, 9), match='130'>"
      ]
     },
     "execution_count": 33,
     "metadata": {},
     "output_type": "execute_result"
    }
   ],
   "source": [
    "# Find the first number in a string\n",
    "re.search(r\"[0-9]+\", \"I ate 130 ghost peppers\")"
   ]
  },
  {
   "cell_type": "code",
   "execution_count": 74,
   "metadata": {
    "collapsed": false
   },
   "outputs": [
    {
     "data": {
      "text/plain": [
       "['.']"
      ]
     },
     "execution_count": 74,
     "metadata": {},
     "output_type": "execute_result"
    }
   ],
   "source": [
    "# Find all punctuation\n",
    "re.findall(r\"[\\.,;?!]\", sentence)"
   ]
  },
  {
   "cell_type": "code",
   "execution_count": 75,
   "metadata": {
    "collapsed": false
   },
   "outputs": [
    {
     "data": {
      "text/plain": [
       "['-', '-', '-', '-', '.']"
      ]
     },
     "execution_count": 75,
     "metadata": {},
     "output_type": "execute_result"
    }
   ],
   "source": [
    "# or\n",
    "re.findall(r\"[^A-Za-z0-9 ]\", sentence)"
   ]
  },
  {
   "cell_type": "code",
   "execution_count": 36,
   "metadata": {
    "collapsed": false
   },
   "outputs": [
    {
     "data": {
      "text/plain": [
       "<_sre.SRE_Match object; span=(19, 31), match='919-555-1212'>"
      ]
     },
     "execution_count": 36,
     "metadata": {},
     "output_type": "execute_result"
    }
   ],
   "source": [
    "# Find a phone number\n",
    "re.search(r\"[0-9]{3}-[0-9]{3}-[0-9]{4}\", \"My phone number is 919-555-1212.\")"
   ]
  },
  {
   "cell_type": "code",
   "execution_count": 77,
   "metadata": {
    "collapsed": false
   },
   "outputs": [
    {
     "data": {
      "text/plain": [
       "UUID('3a5324f2-26fb-481a-9def-f53a3c02dab3')"
      ]
     },
     "execution_count": 77,
     "metadata": {},
     "output_type": "execute_result"
    }
   ],
   "source": [
    "import uuid\n",
    "a_uuid = uuid.uuid4()\n",
    "a_uuid"
   ]
  },
  {
   "cell_type": "code",
   "execution_count": 78,
   "metadata": {
    "collapsed": false
   },
   "outputs": [
    {
     "data": {
      "text/plain": [
       "<_sre.SRE_Match object; span=(0, 36), match='3a5324f2-26fb-481a-9def-f53a3c02dab3'>"
      ]
     },
     "execution_count": 78,
     "metadata": {},
     "output_type": "execute_result"
    }
   ],
   "source": [
    "re.search(r\"[0-9a-f\\-]+\", str(a_uuid))"
   ]
  },
  {
   "cell_type": "markdown",
   "metadata": {},
   "source": [
    "## Character classes\n",
    "\n",
    "That last match was pretty wordy. Luckily, we have something called _character classes_ for commonly used groups of characters.\n",
    "\n",
    "* `\\d` matches digits.\n",
    "* `\\D` matches _non_-digits.\n",
    "* `\\w` matches \"word characters\": basically `[a-zA-Z0-9_]`, plus all other valid Unicode characters that can be in words.\n",
    "* `\\W` matches _non_-word-characters.\n",
    "* `\\s` matches space characters -- `[ \\t\\n\\r\\f\\v]`.\n",
    "* `\\S` matches non-space characters."
   ]
  },
  {
   "cell_type": "code",
   "execution_count": 37,
   "metadata": {
    "collapsed": false
   },
   "outputs": [
    {
     "data": {
      "text/plain": [
       "<_sre.SRE_Match object; span=(19, 31), match='919-555-1212'>"
      ]
     },
     "execution_count": 37,
     "metadata": {},
     "output_type": "execute_result"
    }
   ],
   "source": [
    "# Find a phone number\n",
    "re.search(r\"\\d{3}-\\d{3}-\\d{4}\", \"My phone number is 919-555-1212.\")"
   ]
  },
  {
   "cell_type": "code",
   "execution_count": 38,
   "metadata": {
    "collapsed": false
   },
   "outputs": [
    {
     "data": {
      "text/plain": [
       "[',', ',', '.']"
      ]
     },
     "execution_count": 38,
     "metadata": {},
     "output_type": "execute_result"
    }
   ],
   "source": [
    "# Find all punctuation\n",
    "re.findall(r\"[^\\w\\s]\", sentence)"
   ]
  },
  {
   "cell_type": "markdown",
   "metadata": {},
   "source": [
    "There's a few odder ones:\n",
    "\n",
    "* `\\A` matches the beginning of the string. This is a lot like `^`, but different for multi-line strings.\n",
    "* `\\Z` matches the end of the string. This is a lot like `$`, but different for multi-line strings.\n",
    "* `\\b` matches a word boundary. This means it matches an empty string at the end of a word."
   ]
  },
  {
   "cell_type": "code",
   "execution_count": 83,
   "metadata": {
    "collapsed": false
   },
   "outputs": [
    {
     "data": {
      "text/plain": [
       "['way', 'the', 'that', 'the', 'looks', 'the', 'same', 'after', 'the']"
      ]
     },
     "execution_count": 83,
     "metadata": {},
     "output_type": "execute_result"
    }
   ],
   "source": [
    "# Get words three to five letters long\n",
    "re.findall(r\"\\b\\w{3,5}\\b\", sentence)"
   ]
  },
  {
   "cell_type": "code",
   "execution_count": 40,
   "metadata": {
    "collapsed": false
   },
   "outputs": [
    {
     "data": {
      "text/plain": [
       "['clinton@dreisbach.us',\n",
       " 'beanguy@example.org',\n",
       " 'terry@example.org',\n",
       " 'hi@example.org']"
      ]
     },
     "execution_count": 40,
     "metadata": {},
     "output_type": "execute_result"
    }
   ],
   "source": [
    "# Pick out email addresses\n",
    "possible_emails = [\"clinton\", \"clinton@dreisbach.us\", \"beanguy@example.org\", \n",
    "                   \"Email help@example.org for more information\",\n",
    "                   \"terry@example.org\", \"@carmen\", \"what@what\", \"hi@example.org\"]\n",
    "[possibility \n",
    " for possibility in possible_emails \n",
    " if re.search(\"\\A\\w+@\\w+\\.\\w{2,3}\\Z\", possibility)]"
   ]
  },
  {
   "cell_type": "markdown",
   "metadata": {},
   "source": [
    "Note that a regex for emails is more complex than this. It's not that hard, though:\n",
    "\n",
    "```\n",
    "[a-z0-9!#$%&'*+/=?^_`{|}~-]+(?:\\.[a-z0-9!#$%&'*+/=?^_`{|}~-]+)*@\n",
    "(?:[a-z0-9](?:[a-z0-9-]*[a-z0-9])?\\.)+[a-z0-9](?:[a-z0-9-]*[a-z0-9])?\n",
    "```"
   ]
  },
  {
   "cell_type": "markdown",
   "metadata": {},
   "source": [
    "## Making complex regexes easier to read\n",
    "\n",
    "You can add flags to regexes to make them operate differently. The most important one is the verbose flag."
   ]
  },
  {
   "cell_type": "code",
   "execution_count": 41,
   "metadata": {
    "collapsed": false
   },
   "outputs": [
    {
     "data": {
      "text/plain": [
       "<_sre.SRE_Match object; span=(0, 20), match='clinton@dreisbach.us'>"
      ]
     },
     "execution_count": 41,
     "metadata": {},
     "output_type": "execute_result"
    }
   ],
   "source": [
    "email_regex = re.compile(r\"\"\"\\A\\w+      # The first part of the address\n",
    "                             @\n",
    "                             \\w+\\.      # The domain without the TLD\n",
    "                             \\w{2,3}\\Z  # The TLD\n",
    "                             \"\"\", re.VERBOSE)\n",
    "email_regex.match(\"clinton@dreisbach.us\")"
   ]
  },
  {
   "cell_type": "markdown",
   "metadata": {},
   "source": [
    "## Capturing matches\n",
    "\n",
    "We often want to capture part of a match for later use. You can use parentheses to mark part of your regex as something you will capture."
   ]
  },
  {
   "cell_type": "code",
   "execution_count": 42,
   "metadata": {
    "collapsed": false
   },
   "outputs": [
    {
     "name": "stdout",
     "output_type": "stream",
     "text": [
      "City: Decatur | State: GA\n",
      "City: Wilkesboro | State: NC\n",
      "City: Wichita Falls | State: TX\n"
     ]
    }
   ],
   "source": [
    "# city and state\n",
    "possibilities = [\"Decatur, GA\", \"Wilkesboro, NC\", \"Seattle\", \"Wichita Falls, TX\", \"DC\"]\n",
    "for possibility in possibilities:\n",
    "    match = re.search(\"^([\\w\\s]+), ([A-Z]{2})\", possibility)\n",
    "    if match:\n",
    "        city, state = match.groups()\n",
    "        print(\"City:\", city, \"| State:\", state)"
   ]
  },
  {
   "cell_type": "code",
   "execution_count": 43,
   "metadata": {
    "collapsed": false
   },
   "outputs": [
    {
     "name": "stdout",
     "output_type": "stream",
     "text": [
      "['999-555-1212', '703-555-9999', '800-555-7341', '314-555-8286']\n"
     ]
    }
   ],
   "source": [
    "# Re-format phone numbers for later\n",
    "phone_nums = [\"999-555-1212\", \"(703) 555-9999\", \"800.555.7341\", \"3145558286\"]\n",
    "cleaned = []\n",
    "for num in phone_nums:\n",
    "    match = re.search(r\"\\(?(\\d{3})\\)?[-.]?\\s*(\\d{3})[-.]?(\\d{4})\", num)\n",
    "    cleaned.append(\"{}-{}-{}\".format(*match.groups()))\n",
    "print(cleaned)"
   ]
  },
  {
   "cell_type": "markdown",
   "metadata": {},
   "source": [
    "## Non-capturing group\n",
    "\n",
    "Use `(?:)` to make a group but not capture it."
   ]
  },
  {
   "cell_type": "code",
   "execution_count": 44,
   "metadata": {
    "collapsed": false
   },
   "outputs": [
    {
     "name": "stdout",
     "output_type": "stream",
     "text": [
      "['999-555-1212', '703-555-9999', '800-555-7341', '314-555-8286', 'None-555-1212']\n"
     ]
    }
   ],
   "source": [
    "phone_num_with_possible_area_code = r\"(?:\\(?(\\d{3})\\)?[-.]?\\s*)?(\\d{3})[\\-\\.]?(\\d{4})\"\n",
    "phone_nums = [\"999-555-1212\", \"(703) 555-9999\", \"800.555.7341\", \"3145558286\", \"555-1212\"]\n",
    "cleaned = []\n",
    "for num in phone_nums:\n",
    "    match = re.search(phone_num_with_possible_area_code, num)\n",
    "    cleaned.append(\"{}-{}-{}\".format(*match.groups()))\n",
    "print(cleaned)"
   ]
  },
  {
   "cell_type": "markdown",
   "metadata": {},
   "source": [
    "## Scratching the surface\n",
    "\n",
    "This is just the beginning with regular expressions. You can go really deep down this hole.\n",
    "\n",
    "* [Python regex docs](https://docs.python.org/3/library/re.html)\n",
    "* [Regexr](http://www.regexr.com/)\n",
    "* [Regex One](http://regexone.com/)\n",
    "* [Regular-Expressions.info](http://www.regular-expressions.info/)\n"
   ]
  },
  {
   "cell_type": "code",
   "execution_count": 46,
   "metadata": {
    "collapsed": false
   },
   "outputs": [
    {
     "data": {
      "text/plain": [
       "['clinton@dreisbach.us',\n",
       " 'beanguy@example.org',\n",
       " 'help@example.org',\n",
       " 'terry@example.org',\n",
       " 'hi@example.org']"
      ]
     },
     "execution_count": 46,
     "metadata": {},
     "output_type": "execute_result"
    }
   ],
   "source": [
    "# Pick out email addresses\n",
    "possible_emails = [\"clinton\", \"clinton@dreisbach.us\", \"beanguy@example.org\", \n",
    "                   \"Email help@example.org for more information\",\n",
    "                   \"terry@example.org\", \"@carmen\", \"what@what\", \"hi@example.org\"]\n",
    "emails = []\n",
    "for possibility in possible_emails:\n",
    "    match = re.search(\"\\w+@\\w+\\.\\w{2,3}\", possibility)\n",
    "    if match:\n",
    "        emails.append(match.group(0))\n",
    "emails"
   ]
  },
  {
   "cell_type": "code",
   "execution_count": 47,
   "metadata": {
    "collapsed": false
   },
   "outputs": [
    {
     "name": "stdout",
     "output_type": "stream",
     "text": [
      "<_sre.SRE_Match object; span=(4, 6), match='ab'>\n",
      "<_sre.SRE_Match object; span=(6, 9), match='aab'>\n",
      "<_sre.SRE_Match object; span=(12, 19), match='aaaaaab'>\n",
      "<_sre.SRE_Match object; span=(19, 21), match='ab'>\n",
      "<_sre.SRE_Match object; span=(23, 24), match='b'>\n"
     ]
    }
   ],
   "source": [
    "for match in re.finditer(r\"a*b\", \"ccccabaabcccaaaaaababccb\"):\n",
    "    print(match)"
   ]
  },
  {
   "cell_type": "code",
   "execution_count": 48,
   "metadata": {
    "collapsed": false
   },
   "outputs": [
    {
     "data": {
      "text/plain": [
       "['456-111-4567',\n",
       " '(919) 444-9721',\n",
       " '(123) 456 7890',\n",
       " '313.424.5353',\n",
       " '1-800-987-2345',\n",
       " '+1 (424) 979-3333',\n",
       " '555-1212']"
      ]
     },
     "execution_count": 48,
     "metadata": {},
     "output_type": "execute_result"
    }
   ],
   "source": [
    "phone_nums = \"\"\"456-111-4567\n",
    "(919) 444-9721\n",
    "(123) 456 7890\n",
    "313.424.5353\n",
    "1-800-987-2345\n",
    "+1 (424) 979-3333\n",
    "555-1212\"\"\"\n",
    "\n",
    "phone_nums = phone_nums.split(\"\\n\")\n",
    "phone_nums"
   ]
  },
  {
   "cell_type": "code",
   "execution_count": 49,
   "metadata": {
    "collapsed": false
   },
   "outputs": [],
   "source": [
    "phone_num_regex = r\"(?:\\(?(\\d{3})\\)?[\\-\\.]?\\s*)?(\\d{3})[\\-\\.]?\\s*(\\d{4})\""
   ]
  },
  {
   "cell_type": "code",
   "execution_count": 50,
   "metadata": {
    "collapsed": false
   },
   "outputs": [
    {
     "name": "stdout",
     "output_type": "stream",
     "text": [
      "456-111-4567\t456-111-4567\n",
      "(919) 444-9721\t919-444-9721\n",
      "(123) 456 7890\t123-456-7890\n",
      "313.424.5353\t313-424-5353\n",
      "1-800-987-2345\t800-987-2345\n",
      "+1 (424) 979-3333\t424-979-3333\n",
      "555-1212\t919-555-1212\n"
     ]
    }
   ],
   "source": [
    "default_area_code = \"919\"\n",
    "for num in phone_nums:\n",
    "    match = re.search(phone_num_regex, num)\n",
    "    if match:\n",
    "        area_code, prefix, suffix = match.groups()\n",
    "        if area_code is None:\n",
    "            area_code = default_area_code\n",
    "        print(\"{}\\t{}-{}-{}\".format(num, area_code, prefix, suffix))"
   ]
  },
  {
   "cell_type": "code",
   "execution_count": 51,
   "metadata": {
    "collapsed": false
   },
   "outputs": [],
   "source": [
    "date_str = \"\"\"9/4/1976\n",
    "09/30/77\n",
    "20111103\n",
    "Nov 30, 2014\n",
    "5 Oct 1995\n",
    "1999-10-04\"\"\"\n",
    "\n",
    "dates = date_str.split(\"\\n\")"
   ]
  },
  {
   "cell_type": "code",
   "execution_count": 52,
   "metadata": {
    "collapsed": false
   },
   "outputs": [
    {
     "name": "stdout",
     "output_type": "stream",
     "text": [
      "9/4/1976\t09/04/1976\n",
      "09/30/77\t09/30/1977\n",
      "20111103\t11/03/2011\n",
      "Nov 30, 2014\t11/30/2014\n",
      "5 Oct 1995\t10/05/1995\n",
      "1999-10-04\t10/04/1999\n"
     ]
    }
   ],
   "source": [
    "def extract_date(date_str):\n",
    "    date_regex = [r\"(?P<month>\\d{1,2})/(?P<day>\\d{1,2})/(?P<year>\\d{4}|\\d{2})\",\n",
    "                  r\"(?P<year>\\d{4})-?(?P<month>\\d{2})-?(?P<day>\\d{2})\",\n",
    "                  r\"(?P<day>\\d{1,2})\\s*(?P<month>[A-Za-z]{3})\\s*(?P<year>\\d{4})\",\n",
    "                  r\"(?P<month>[A-Za-z]{3})\\s*(?P<day>\\d{1,2})\\s*,?\\s*(?P<year>\\d{4})\"]\n",
    "    \n",
    "    for regex in date_regex:\n",
    "        match = re.match(regex, date_str)\n",
    "        if match:\n",
    "            return match\n",
    "        \n",
    "def clean_date(year, month, day):\n",
    "    months = {\"Jan\": 1, \"Feb\": 2, \"Oct\": 10, \"Nov\": 11}\n",
    "\n",
    "    try:\n",
    "        month = int(month)\n",
    "    except ValueError:\n",
    "        month = months[month]\n",
    "    day = int(day)\n",
    "    year = int(year)\n",
    "    if year < 15:\n",
    "        year += 2000\n",
    "    elif year < 100:\n",
    "        year += 1900\n",
    "    \n",
    "    return {\"year\": year, \"month\": month, \"day\": day}\n",
    "        \n",
    "\n",
    "for date in dates:\n",
    "    match = extract_date(date)\n",
    "    if match:\n",
    "        ddict = match.groupdict()\n",
    "        ddict = clean_date(**ddict)\n",
    "        ddict['orig'] = date\n",
    "            \n",
    "        print(\"{orig}\\t{month:02d}/{day:02d}/{year:d}\".format(**ddict))"
   ]
  }
 ],
 "metadata": {
  "kernelspec": {
   "display_name": "Python 3",
   "language": "python",
   "name": "python3"
  },
  "language_info": {
   "codemirror_mode": {
    "name": "ipython",
    "version": 3
   },
   "file_extension": ".py",
   "mimetype": "text/x-python",
   "name": "python",
   "nbconvert_exporter": "python",
   "pygments_lexer": "ipython3",
   "version": "3.5.1"
  }
 },
 "nbformat": 4,
 "nbformat_minor": 0
}
